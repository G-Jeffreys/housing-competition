{
 "cells": [
  {
   "cell_type": "code",
   "execution_count": 1,
   "id": "7fb29b12",
   "metadata": {
    "_cell_guid": "b1076dfc-b9ad-4769-8c92-a6c4dae69d19",
    "_uuid": "8f2839f25d086af736a60e9eeb907d3b93b6e0e5",
    "execution": {
     "iopub.execute_input": "2023-03-21T21:26:25.792924Z",
     "iopub.status.busy": "2023-03-21T21:26:25.792008Z",
     "iopub.status.idle": "2023-03-21T21:26:27.326237Z",
     "shell.execute_reply": "2023-03-21T21:26:27.324972Z"
    },
    "papermill": {
     "duration": 1.543384,
     "end_time": "2023-03-21T21:26:27.329412",
     "exception": false,
     "start_time": "2023-03-21T21:26:25.786028",
     "status": "completed"
    },
    "tags": []
   },
   "outputs": [
    {
     "name": "stdout",
     "output_type": "stream",
     "text": [
      "/kaggle/input/home-data-for-ml-course/sample_submission.csv\n",
      "/kaggle/input/home-data-for-ml-course/sample_submission.csv.gz\n",
      "/kaggle/input/home-data-for-ml-course/train.csv.gz\n",
      "/kaggle/input/home-data-for-ml-course/data_description.txt\n",
      "/kaggle/input/home-data-for-ml-course/test.csv.gz\n",
      "/kaggle/input/home-data-for-ml-course/train.csv\n",
      "/kaggle/input/home-data-for-ml-course/test.csv\n"
     ]
    }
   ],
   "source": [
    "import numpy as np # linear algebra\n",
    "import pandas as pd # data processing, CSV file I/O (e.g. pd.read_csv)\n",
    "import os\n",
    "for dirname, _, filenames in os.walk('/kaggle/input'):\n",
    "    for filename in filenames:\n",
    "        print(os.path.join(dirname, filename))\n",
    "\n",
    "from sklearn.model_selection import train_test_split\n",
    "from sklearn.ensemble import RandomForestRegressor\n",
    "from sklearn.metrics import mean_absolute_error\n",
    "from sklearn.preprocessing import OrdinalEncoder\n",
    "from sklearn.preprocessing import OneHotEncoder\n",
    "from sklearn.impute import SimpleImputer"
   ]
  },
  {
   "cell_type": "code",
   "execution_count": 2,
   "id": "4adae4bb",
   "metadata": {
    "execution": {
     "iopub.execute_input": "2023-03-21T21:26:27.337671Z",
     "iopub.status.busy": "2023-03-21T21:26:27.337269Z",
     "iopub.status.idle": "2023-03-21T21:26:27.435440Z",
     "shell.execute_reply": "2023-03-21T21:26:27.434212Z"
    },
    "papermill": {
     "duration": 0.105362,
     "end_time": "2023-03-21T21:26:27.438176",
     "exception": false,
     "start_time": "2023-03-21T21:26:27.332814",
     "status": "completed"
    },
    "tags": []
   },
   "outputs": [],
   "source": [
    "# Reading competition data\n",
    "X = pd.read_csv('/kaggle/input/home-data-for-ml-course/train.csv', index_col='Id') \n",
    "X_test = pd.read_csv('/kaggle/input/home-data-for-ml-course/test.csv', index_col='Id')\n",
    "\n",
    "# Removing rows with missing target, separating target from predictors\n",
    "X.dropna(axis=0, subset=['SalePrice'], inplace=True)\n",
    "y = X.SalePrice\n",
    "X.drop(['SalePrice'], axis=1, inplace=True)\n",
    "\n",
    "# Breaking off validation set from training data\n",
    "X_train, X_valid, y_train, y_valid = train_test_split(X, y,\n",
    "                                                      train_size=0.8, test_size=0.2,\n",
    "                                                      random_state=0)"
   ]
  },
  {
   "cell_type": "code",
   "execution_count": 3,
   "id": "55ad7f69",
   "metadata": {
    "execution": {
     "iopub.execute_input": "2023-03-21T21:26:27.446042Z",
     "iopub.status.busy": "2023-03-21T21:26:27.445635Z",
     "iopub.status.idle": "2023-03-21T21:26:27.470199Z",
     "shell.execute_reply": "2023-03-21T21:26:27.469096Z"
    },
    "papermill": {
     "duration": 0.032171,
     "end_time": "2023-03-21T21:26:27.473509",
     "exception": false,
     "start_time": "2023-03-21T21:26:27.441338",
     "status": "completed"
    },
    "tags": []
   },
   "outputs": [],
   "source": [
    "# Categorical columns in the training data\n",
    "object_cols = [col for col in X_train.columns if X_train[col].dtype == \"object\"]\n",
    "\n",
    "# Columns that can be safely ordinal encoded\n",
    "good_label_cols = [col for col in object_cols if \n",
    "                   set(X_valid[col]).issubset(set(X_train[col]))]\n",
    "        \n",
    "# Problematic columns that will be dropped from the dataset\n",
    "bad_label_cols = list(set(object_cols)-set(good_label_cols))\n",
    "\n",
    "#Drop all categorical columns with values missing from training/validation data\n",
    "X_train_clean = X_train.drop(bad_label_cols, axis=1)\n",
    "X_valid_clean = X_valid.drop(bad_label_cols, axis=1)\n",
    "\n",
    "#Drop all categorical columns with missing values from test data\n",
    "X_test_clean = X_test.drop(bad_label_cols, axis=1)\n"
   ]
  },
  {
   "cell_type": "code",
   "execution_count": 4,
   "id": "3e444a9d",
   "metadata": {
    "execution": {
     "iopub.execute_input": "2023-03-21T21:26:27.481672Z",
     "iopub.status.busy": "2023-03-21T21:26:27.481246Z",
     "iopub.status.idle": "2023-03-21T21:26:27.494997Z",
     "shell.execute_reply": "2023-03-21T21:26:27.493890Z"
    },
    "papermill": {
     "duration": 0.020596,
     "end_time": "2023-03-21T21:26:27.497369",
     "exception": false,
     "start_time": "2023-03-21T21:26:27.476773",
     "status": "completed"
    },
    "tags": []
   },
   "outputs": [],
   "source": [
    "# Columns that will be one-hot encoded\n",
    "low_cardinality_cols = [col for col in good_label_cols if X_train[col].nunique() < 10]\n",
    "\n",
    "# Columns that will be dropped from the dataset\n",
    "high_cardinality_cols = list(set(good_label_cols)-set(low_cardinality_cols))"
   ]
  },
  {
   "cell_type": "code",
   "execution_count": 5,
   "id": "e52cf944",
   "metadata": {
    "execution": {
     "iopub.execute_input": "2023-03-21T21:26:27.505430Z",
     "iopub.status.busy": "2023-03-21T21:26:27.504703Z",
     "iopub.status.idle": "2023-03-21T21:26:27.605277Z",
     "shell.execute_reply": "2023-03-21T21:26:27.604066Z"
    },
    "papermill": {
     "duration": 0.107667,
     "end_time": "2023-03-21T21:26:27.608119",
     "exception": false,
     "start_time": "2023-03-21T21:26:27.500452",
     "status": "completed"
    },
    "tags": []
   },
   "outputs": [],
   "source": [
    "#Preprocessing the categorical data\n",
    "OH_encoder = OneHotEncoder(handle_unknown='ignore', sparse=False)\n",
    "ordinal_encoder = OrdinalEncoder()\n",
    "\n",
    "#We OH encode the good low categorical values\n",
    "OH_cols_train = pd.DataFrame(OH_encoder.fit_transform(X_train_clean[low_cardinality_cols]))\n",
    "OH_cols_valid = pd.DataFrame(OH_encoder.transform(X_valid_clean[low_cardinality_cols]))\n",
    "OH_cols_test = pd.DataFrame(OH_encoder.transform(X_test_clean[low_cardinality_cols]))\n",
    "\n",
    "#We reindex the numpyarray of good low categorical values we just made\n",
    "OH_cols_train.index = X_train.index\n",
    "OH_cols_valid.index = X_valid.index\n",
    "OH_cols_test.index = X_test.index\n",
    "\n",
    "#Here we are ordinalizing the large categorical data\n",
    "X_train_clean[high_cardinality_cols] = ordinal_encoder.fit_transform(X_train[high_cardinality_cols])\n",
    "X_valid_clean[high_cardinality_cols] = ordinal_encoder.transform(X_valid[high_cardinality_cols])\n",
    "X_test_clean[high_cardinality_cols] = ordinal_encoder.fit_transform(X_test[high_cardinality_cols])\n",
    "\n",
    "#We drop the good low categorical columns from the data set so we can add the numpy array\n",
    "num_X_train = X_train_clean.drop(low_cardinality_cols, axis=1)\n",
    "num_X_valid = X_valid_clean.drop(low_cardinality_cols, axis=1)\n",
    "num_X_test = X_test_clean.drop(low_cardinality_cols, axis=1)\n",
    "\n",
    "#We add the OH numpy array to the dataset\n",
    "OH_X_train_clean = pd.concat([num_X_train, OH_cols_train], axis=1)\n",
    "OH_X_valid_clean = pd.concat([num_X_valid, OH_cols_valid], axis=1)\n",
    "OH_X_test_clean = pd.concat([num_X_test, OH_cols_test], axis=1)"
   ]
  },
  {
   "cell_type": "code",
   "execution_count": 6,
   "id": "b549d4ec",
   "metadata": {
    "execution": {
     "iopub.execute_input": "2023-03-21T21:26:27.616549Z",
     "iopub.status.busy": "2023-03-21T21:26:27.615733Z",
     "iopub.status.idle": "2023-03-21T21:26:27.663920Z",
     "shell.execute_reply": "2023-03-21T21:26:27.662572Z"
    },
    "papermill": {
     "duration": 0.055318,
     "end_time": "2023-03-21T21:26:27.666642",
     "exception": false,
     "start_time": "2023-03-21T21:26:27.611324",
     "status": "completed"
    },
    "tags": []
   },
   "outputs": [
    {
     "name": "stderr",
     "output_type": "stream",
     "text": [
      "/opt/conda/lib/python3.7/site-packages/sklearn/utils/validation.py:1692: FutureWarning: Feature names only support names that are all strings. Got feature names with dtypes: ['int', 'str']. An error will be raised in 1.2.\n",
      "  FutureWarning,\n",
      "/opt/conda/lib/python3.7/site-packages/sklearn/utils/validation.py:1692: FutureWarning: Feature names only support names that are all strings. Got feature names with dtypes: ['int', 'str']. An error will be raised in 1.2.\n",
      "  FutureWarning,\n",
      "/opt/conda/lib/python3.7/site-packages/sklearn/utils/validation.py:1692: FutureWarning: Feature names only support names that are all strings. Got feature names with dtypes: ['int', 'str']. An error will be raised in 1.2.\n",
      "  FutureWarning,\n",
      "/opt/conda/lib/python3.7/site-packages/sklearn/utils/validation.py:1692: FutureWarning: Feature names only support names that are all strings. Got feature names with dtypes: ['int', 'str']. An error will be raised in 1.2.\n",
      "  FutureWarning,\n"
     ]
    }
   ],
   "source": [
    "#Deal with missing data\n",
    "my_imputer = SimpleImputer()\n",
    "imputed_X_train = pd.DataFrame(my_imputer.fit_transform(OH_X_train_clean))\n",
    "imputed_X_valid = pd.DataFrame(my_imputer.transform(OH_X_valid_clean))\n",
    "imputed_X_test = pd.DataFrame(my_imputer.transform(OH_X_test_clean))\n",
    "\n",
    "\n",
    "imputed_X_train.columns = OH_X_train_clean.columns\n",
    "imputed_X_valid.columns = OH_X_valid_clean.columns\n",
    "imputed_X_test.columns = OH_X_test_clean.columns"
   ]
  },
  {
   "cell_type": "code",
   "execution_count": 7,
   "id": "8c60ed29",
   "metadata": {
    "execution": {
     "iopub.execute_input": "2023-03-21T21:26:27.675510Z",
     "iopub.status.busy": "2023-03-21T21:26:27.674313Z",
     "iopub.status.idle": "2023-03-21T21:26:30.256002Z",
     "shell.execute_reply": "2023-03-21T21:26:30.254544Z"
    },
    "papermill": {
     "duration": 2.589055,
     "end_time": "2023-03-21T21:26:30.258828",
     "exception": false,
     "start_time": "2023-03-21T21:26:27.669773",
     "status": "completed"
    },
    "tags": []
   },
   "outputs": [
    {
     "name": "stderr",
     "output_type": "stream",
     "text": [
      "/opt/conda/lib/python3.7/site-packages/sklearn/utils/validation.py:1692: FutureWarning: Feature names only support names that are all strings. Got feature names with dtypes: ['int', 'str']. An error will be raised in 1.2.\n",
      "  FutureWarning,\n"
     ]
    },
    {
     "name": "stdout",
     "output_type": "stream",
     "text": [
      "17439.449280821915\n"
     ]
    },
    {
     "name": "stderr",
     "output_type": "stream",
     "text": [
      "/opt/conda/lib/python3.7/site-packages/sklearn/utils/validation.py:1692: FutureWarning: Feature names only support names that are all strings. Got feature names with dtypes: ['int', 'str']. An error will be raised in 1.2.\n",
      "  FutureWarning,\n",
      "/opt/conda/lib/python3.7/site-packages/sklearn/utils/validation.py:1692: FutureWarning: Feature names only support names that are all strings. Got feature names with dtypes: ['int', 'str']. An error will be raised in 1.2.\n",
      "  FutureWarning,\n"
     ]
    }
   ],
   "source": [
    "# Your code here - actually making the model\n",
    "model = RandomForestRegressor(n_estimators=100, random_state=0)\n",
    "model.fit(imputed_X_train, y_train)\n",
    "preds_valid = model.predict(imputed_X_valid)\n",
    "print(mean_absolute_error(y_valid, preds_valid))\n",
    "#This doesn't work. It seems that there is missing data in the test data not missing in the training/validation data?\n",
    "preds_test = model.predict(imputed_X_test)"
   ]
  },
  {
   "cell_type": "code",
   "execution_count": 8,
   "id": "ed4cde33",
   "metadata": {
    "execution": {
     "iopub.execute_input": "2023-03-21T21:26:30.267524Z",
     "iopub.status.busy": "2023-03-21T21:26:30.267109Z",
     "iopub.status.idle": "2023-03-21T21:26:30.282538Z",
     "shell.execute_reply": "2023-03-21T21:26:30.281195Z"
    },
    "papermill": {
     "duration": 0.023276,
     "end_time": "2023-03-21T21:26:30.285586",
     "exception": false,
     "start_time": "2023-03-21T21:26:30.262310",
     "status": "completed"
    },
    "tags": []
   },
   "outputs": [],
   "source": [
    "output = pd.DataFrame({'Id': X_test.index,\n",
    "                       'SalePrice': preds_test})\n",
    "output.to_csv('housing_data_submission.csv', index=False)"
   ]
  }
 ],
 "metadata": {
  "kernelspec": {
   "display_name": "Python 3",
   "language": "python",
   "name": "python3"
  },
  "language_info": {
   "codemirror_mode": {
    "name": "ipython",
    "version": 3
   },
   "file_extension": ".py",
   "mimetype": "text/x-python",
   "name": "python",
   "nbconvert_exporter": "python",
   "pygments_lexer": "ipython3",
   "version": "3.7.12"
  },
  "papermill": {
   "default_parameters": {},
   "duration": 15.723108,
   "end_time": "2023-03-21T21:26:31.011693",
   "environment_variables": {},
   "exception": null,
   "input_path": "__notebook__.ipynb",
   "output_path": "__notebook__.ipynb",
   "parameters": {},
   "start_time": "2023-03-21T21:26:15.288585",
   "version": "2.4.0"
  }
 },
 "nbformat": 4,
 "nbformat_minor": 5
}
